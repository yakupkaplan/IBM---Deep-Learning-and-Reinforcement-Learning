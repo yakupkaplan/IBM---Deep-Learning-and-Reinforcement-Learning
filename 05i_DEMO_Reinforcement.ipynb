{
 "cells": [
  {
   "cell_type": "markdown",
   "metadata": {
    "run_control": {
     "marked": true
    }
   },
   "source": [
    "# Machine Learning Foundation\n",
    "\n",
    "## Course 5, Part i: Reinforcement Learning DEMO"
   ]
  },
  {
   "cell_type": "markdown",
   "metadata": {},
   "source": [
    "## Reinforcement Learning Example\n",
    "\n",
    "In this example from Reinforcement Learning, the task is to use tools from Machine Learning to predict how an agent should act. We will then use those predictions to drive the behavior of the agent. Ideally, our intelligent agent should get a much better score than a random agent.\n",
    "\n",
    "## Key concepts:\n",
    "\n",
    "- **Observation**: These are the states of the game. It describes where the agent currently is.\n",
    "- **Action**: These are the moves that the agent makes.\n",
    "- **Episode**: One full game played from beginning (`env.reset()`) to end (when `done == True`).\n",
    "- **Step**: Part of a game that includes one action. The game transitions from one observation to the next.\n",
    "\n",
    "## Setup\n",
    "\n",
    "This exaple uses the Python library [OpenAI Gym](https://gym.openai.com/docs/).\n",
    "\n",
    "If you want to install everything (gym can run atari games.) follow [these instructions](https://github.com/openai/gym#installing-everything).\n",
    "\n",
    "Now we can build an environment using OpenAI. "
   ]
  },
  {
   "cell_type": "code",
   "execution_count": 2,
   "metadata": {},
   "outputs": [
    {
     "output_type": "stream",
     "name": "stdout",
     "text": [
      "Collecting gym\n  Downloading gym-0.18.0.tar.gz (1.6 MB)\nRequirement already satisfied: scipy in c:\\users\\yakup\\anaconda3\\lib\\site-packages (from gym) (1.5.2)\nRequirement already satisfied: numpy>=1.10.4 in c:\\users\\yakup\\anaconda3\\lib\\site-packages (from gym) (1.19.2)\nCollecting pyglet<=1.5.0,>=1.4.0\n  Downloading pyglet-1.5.0-py2.py3-none-any.whl (1.0 MB)\nCollecting Pillow<=7.2.0\n  Downloading Pillow-7.2.0-cp38-cp38-win_amd64.whl (2.1 MB)\nRequirement already satisfied: cloudpickle<1.7.0,>=1.2.0 in c:\\users\\yakup\\anaconda3\\lib\\site-packages (from gym) (1.6.0)\nRequirement already satisfied: future in c:\\users\\yakup\\anaconda3\\lib\\site-packages (from pyglet<=1.5.0,>=1.4.0->gym) (0.18.2)\nBuilding wheels for collected packages: gym\n  Building wheel for gym (setup.py): started\n  Building wheel for gym (setup.py): finished with status 'done'\n  Created wheel for gym: filename=gym-0.18.0-py3-none-any.whl size=1656454 sha256=af93a8e36fe60d6b793734cb44d2392f8e1971f32781e5bec7960cc529cb4975\n  Stored in directory: c:\\users\\yakup\\appdata\\local\\pip\\cache\\wheels\\d8\\e7\\68\\a3f0f1b5831c9321d7523f6fd4e0d3f83f2705a1cbd5daaa79\nSuccessfully built gym\nInstalling collected packages: pyglet, Pillow, gym\n  Attempting uninstall: Pillow\n    Found existing installation: Pillow 8.0.1\n    Uninstalling Pillow-8.0.1:\n      Successfully uninstalled Pillow-8.0.1\nSuccessfully installed Pillow-7.2.0 gym-0.18.0 pyglet-1.5.0\n"
     ]
    }
   ],
   "source": [
    "!pip install gym"
   ]
  },
  {
   "cell_type": "code",
   "execution_count": 3,
   "metadata": {},
   "outputs": [],
   "source": [
    "import gym\n",
    "import pandas as pd\n",
    "import numpy as np"
   ]
  },
  {
   "cell_type": "markdown",
   "metadata": {},
   "source": [
    "# The first part of the game uses the environment FrozenLake-V0\n",
    "\n",
    "This is a small world with 16 tiles. \n",
    "\n",
    "    SFFF\n",
    "    FHFH\n",
    "    FFFH\n",
    "    HFFG\n",
    "\n",
    "The game starts at the S tile. The object of the game is to get to the goal (G) without landing in a hole (H)."
   ]
  },
  {
   "cell_type": "code",
   "execution_count": 4,
   "metadata": {},
   "outputs": [
    {
     "output_type": "stream",
     "name": "stdout",
     "text": [
      "0\n"
     ]
    }
   ],
   "source": [
    "# Build an environment with gym.make()\n",
    "env = gym.make('FrozenLake-v0') # build a fresh environment\n",
    "\n",
    "# Start a new game with env.reset()\n",
    "current_observation = env.reset() # this starts a new \"episode\" and returns the initial observation\n",
    "\n",
    "#the current observation is just the current location\n",
    "print(current_observation) # observations are just a number"
   ]
  },
  {
   "cell_type": "code",
   "execution_count": 10,
   "metadata": {},
   "outputs": [
    {
     "output_type": "stream",
     "text": [
      "\u001b[1;31mType:\u001b[0m        FrozenLakeEnv\n",
      "\u001b[1;31mString form:\u001b[0m <FrozenLakeEnv<FrozenLake-v0>>\n",
      "\u001b[1;31mFile:\u001b[0m        c:\\users\\yakup\\anaconda3\\lib\\site-packages\\gym\\envs\\toy_text\\frozen_lake.py\n",
      "\u001b[1;31mDocstring:\u001b[0m  \n",
      "Winter is here. You and your friends were tossing around a frisbee at the\n",
      "park when you made a wild throw that left the frisbee out in the middle of\n",
      "the lake. The water is mostly frozen, but there are a few holes where the\n",
      "ice has melted. If you step into one of those holes, you'll fall into the\n",
      "freezing water. At this time, there's an international frisbee shortage, so\n",
      "it's absolutely imperative that you navigate across the lake and retrieve\n",
      "the disc. However, the ice is slippery, so you won't always move in the\n",
      "direction you intend.\n",
      "The surface is described using a grid like the following\n",
      "\n",
      "    SFFF\n",
      "    FHFH\n",
      "    FFFH\n",
      "    HFFG\n",
      "\n",
      "S : starting point, safe\n",
      "F : frozen surface, safe\n",
      "H : hole, fall to your doom\n",
      "G : goal, where the frisbee is located\n",
      "\n",
      "The episode ends when you reach the goal or fall in a hole.\n",
      "You receive a reward of 1 if you reach the goal, and zero otherwise.\n"
     ],
     "name": "stdout"
    }
   ],
   "source": [
    "env.env?"
   ]
  },
  {
   "cell_type": "code",
   "execution_count": 5,
   "metadata": {},
   "outputs": [
    {
     "output_type": "stream",
     "name": "stdout",
     "text": [
      "\n\u001b[41mS\u001b[0mFFF\nFHFH\nFFFH\nHFFG\n"
     ]
    }
   ],
   "source": [
    "# we can print the environment if we want to look at it\n",
    "env.render() "
   ]
  },
  {
   "cell_type": "code",
   "execution_count": 6,
   "metadata": {},
   "outputs": [
    {
     "output_type": "stream",
     "name": "stdout",
     "text": [
      "our action space: Discrete(4)\nour new action: 2\n"
     ]
    }
   ],
   "source": [
    "# the action space for this environment includes four discrete actions\n",
    "\n",
    "print(f\"our action space: {env.action_space}\")\n",
    "\n",
    "new_action = env.action_space.sample() # we can randomly sample actions\n",
    "\n",
    "print(f\"our new action: {new_action}\") # run this cell a few times to get an idea of the action space\n",
    "# what does it look like?"
   ]
  },
  {
   "cell_type": "code",
   "execution_count": 7,
   "metadata": {},
   "outputs": [
    {
     "output_type": "stream",
     "name": "stdout",
     "text": [
      "observation: 4, reward: 0.0, done: False, info: {'prob': 0.3333333333333333}\n  (Right)\nSFFF\n\u001b[41mF\u001b[0mHFH\nFFFH\nHFFG\n"
     ]
    }
   ],
   "source": [
    "# now we act! do this with the step function\n",
    "\n",
    "new_action = env.action_space.sample()\n",
    "\n",
    "observation, reward, done, info = env.step(new_action)\n",
    "\n",
    "# here's a look at what we get back\n",
    "print(f\"observation: {observation}, reward: {reward}, done: {done}, info: {info}\")\n",
    "\n",
    "env.render() "
   ]
  },
  {
   "cell_type": "code",
   "execution_count": 8,
   "metadata": {},
   "outputs": [
    {
     "output_type": "stream",
     "name": "stdout",
     "text": [
      "observation: 0, reward: 0.0, done: False, info: {'prob': 0.3333333333333333}\n  (Down)\n\u001b[41mS\u001b[0mFFF\nFHFH\nFFFH\nHFFG\nobservation: 0, reward: 0.0, done: False, info: {'prob': 0.3333333333333333}\n  (Right)\n\u001b[41mS\u001b[0mFFF\nFHFH\nFFFH\nHFFG\nobservation: 1, reward: 0.0, done: False, info: {'prob': 0.3333333333333333}\n  (Down)\nS\u001b[41mF\u001b[0mFF\nFHFH\nFFFH\nHFFG\nobservation: 1, reward: 0.0, done: False, info: {'prob': 0.3333333333333333}\n  (Up)\nS\u001b[41mF\u001b[0mFF\nFHFH\nFFFH\nHFFG\nobservation: 1, reward: 0.0, done: False, info: {'prob': 0.3333333333333333}\n  (Right)\nS\u001b[41mF\u001b[0mFF\nFHFH\nFFFH\nHFFG\n"
     ]
    }
   ],
   "source": [
    "# we can put this process into a for-loop and see how the game progresses\n",
    "\n",
    "current_observation = env.reset() # start a new game\n",
    "\n",
    "for i in range(5): # run 5 moves\n",
    "\n",
    "    new_action = env.action_space.sample() # same a new action\n",
    "\n",
    "    observation, reward, done, info = env.step(new_action) # step through the action and get the outputs\n",
    "\n",
    "    # here's a look at what we get back\n",
    "    print(f\"observation: {observation}, reward: {reward}, done: {done}, info: {info}\")\n",
    "\n",
    "    env.render() "
   ]
  },
  {
   "cell_type": "markdown",
   "metadata": {},
   "source": [
    "Now we can guess what each of the outputs mean. \n",
    "\n",
    "**Observation** refers to the number of the tile. The tiles appear to be numbered\n",
    "\n",
    "    0 1 2 3\n",
    "    4 5 ...\n",
    "    \n",
    "**Reward** refers to the outcome of the game. We get 1 if we win, zero otherwise.\n",
    "\n",
    "**Done** tells us if the game is still going. It goes to true when we win or fall into a hole.\n",
    "\n",
    "**info** gives extra info about the world. Here, it's probabilities. Can you guess what this means here? Perhaps the world is a bit noisy."
   ]
  },
  {
   "cell_type": "code",
   "execution_count": 9,
   "metadata": {},
   "outputs": [
    {
     "output_type": "stream",
     "name": "stdout",
     "text": [
      "action:1 observation: 1, reward: 0.0, done: False, info: {'prob': 0.3333333333333333}\naction:1 observation: 5, reward: 0.0, done: True, info: {'prob': 0.3333333333333333}\n"
     ]
    }
   ],
   "source": [
    "# Here's how to simulate an entire episode\n",
    "# We're going to stop rendering it every time to save space\n",
    "# try running this a few. Does it ever win?\n",
    "\n",
    "current_observation = env.reset()\n",
    "done = False\n",
    "\n",
    "while not done:    \n",
    "    new_action = env.action_space.sample()\n",
    "    new_observation, reward, done, info = env.step(new_action)\n",
    "    print(f\"action:{new_action} observation: {new_observation}, reward: {reward}, done: {done}, info: {info}\")"
   ]
  },
  {
   "cell_type": "markdown",
   "metadata": {},
   "source": [
    "Things to think about:\n",
    "- What things do you notice about how the environment and actions work?\n",
    "- What do you think the actions mean?\n",
    "- When the agent performs the same action from the same place (same observation), does the same outcome happen every time?"
   ]
  },
  {
   "cell_type": "markdown",
   "metadata": {},
   "source": [
    "The environment has some squares that always end the game (`H` in the render), some that don't (`F`), and one that is presumably the reward, if you get to it.\n",
    "\n",
    "The actions seem like up, down, left right. But they also seem stochastic. There seems to be a 1/3 chance of going into 3 different squares with each action. "
   ]
  },
  {
   "cell_type": "markdown",
   "metadata": {},
   "source": [
    "# Part 1: Gather data\n",
    "\n",
    "We want to build an intelligent actor but first we have to gather data on which actions are useful.\n",
    "\n",
    "Use the above code as reference. Run a *random* agent through 1,000 or more episodes and collect data on each step.\n",
    "\n",
    "I recommend you store this data in a pandas dataframe. Each row should be a step. Your features should include the following features or similar \n",
    "\n",
    "- `observation` the observation at the beginning of the step (before acting!)\n",
    "- `action` the action randomly sampled\n",
    "- `current_reward` the reward received after the action was performed\n",
    "\n",
    "After you generate this data, it is recommended that you compute a column (e.g. `total_reward` that is the total reward for the entire episode).\n",
    "\n",
    "At the end of the data gathering, you should be able to use pandas (or similar) to calculate the average total reward *per episode* of the random agent. The average score should be 1-2%, meaning that the agent very rarely wins.\n",
    "\n",
    "\n",
    "## Hints\n",
    "\n",
    "- `initial_observation = env.reset()` starts a new episode and returns the initial observation.\n",
    "- `new_observation, reward, done, info = env.step(new_action)` executes one action and returns the following observation. You may look at the documentation for the step method if you are curious about what it does. \n",
    "- `done != True` until the game is finished.\n",
    "- we are trying to maximize the reward *per episode*. Our first game gives 0 reward unless the agent travels to the goal.\n",
    "- `env.action_space.n` gives the number of possible actions in the environment. `env.action_space.sample()` allows the agent to randomly sample an action.\n",
    "- `env.observation_space.n` gives the number of possible states in the environment. "
   ]
  },
  {
   "cell_type": "code",
   "execution_count": 13,
   "metadata": {},
   "outputs": [],
   "source": [
    "env = gym.make('FrozenLake-v0')\n",
    "\n",
    "num_episodes = 40000\n",
    "\n",
    "life_memory = []\n",
    "for i in range(num_episodes):\n",
    "    \n",
    "    # start a new episode and record all the memories\n",
    "    old_observation = env.reset()\n",
    "    done = False\n",
    "    tot_reward = 0\n",
    "    ep_memory = []\n",
    "    while not done:\n",
    "        new_action = env.action_space.sample()\n",
    "        observation, reward, done, info = env.step(new_action)\n",
    "        tot_reward += reward\n",
    "        \n",
    "        ep_memory.append({\n",
    "            \"observation\": old_observation,\n",
    "            \"action\": new_action,\n",
    "            \"reward\": reward,\n",
    "            \"episode\": i,\n",
    "        })\n",
    "        old_observation = observation\n",
    "        \n",
    "    # incorporate total reward\n",
    "    num_steps = len(ep_memory)\n",
    "    for i, ep_mem in enumerate(ep_memory):\n",
    "        ep_mem[\"tot_reward\"] = tot_reward\n",
    "        ep_mem[\"decay_reward\"] = i*tot_reward/num_steps\n",
    "        \n",
    "    life_memory.extend(ep_memory)\n",
    "    \n",
    "memory_df = pd.DataFrame(life_memory)"
   ]
  },
  {
   "cell_type": "code",
   "execution_count": 15,
   "metadata": {},
   "outputs": [
    {
     "output_type": "execute_result",
     "data": {
      "text/plain": [
       "   observation  action  reward  episode  tot_reward  decay_reward\n",
       "0            0       1     0.0        0         0.0           0.0\n",
       "1            0       0     0.0        0         0.0           0.0\n",
       "2            4       3     0.0        0         0.0           0.0\n",
       "3            4       2     0.0        0         0.0           0.0\n",
       "4            8       2     0.0        0         0.0           0.0\n",
       "5            4       0     0.0        0         0.0           0.0\n",
       "6            4       0     0.0        0         0.0           0.0\n",
       "7            4       2     0.0        0         0.0           0.0\n",
       "8            0       3     0.0        1         0.0           0.0\n",
       "9            1       3     0.0        1         0.0           0.0"
      ],
      "text/html": "<div>\n<style scoped>\n    .dataframe tbody tr th:only-of-type {\n        vertical-align: middle;\n    }\n\n    .dataframe tbody tr th {\n        vertical-align: top;\n    }\n\n    .dataframe thead th {\n        text-align: right;\n    }\n</style>\n<table border=\"1\" class=\"dataframe\">\n  <thead>\n    <tr style=\"text-align: right;\">\n      <th></th>\n      <th>observation</th>\n      <th>action</th>\n      <th>reward</th>\n      <th>episode</th>\n      <th>tot_reward</th>\n      <th>decay_reward</th>\n    </tr>\n  </thead>\n  <tbody>\n    <tr>\n      <th>0</th>\n      <td>0</td>\n      <td>1</td>\n      <td>0.0</td>\n      <td>0</td>\n      <td>0.0</td>\n      <td>0.0</td>\n    </tr>\n    <tr>\n      <th>1</th>\n      <td>0</td>\n      <td>0</td>\n      <td>0.0</td>\n      <td>0</td>\n      <td>0.0</td>\n      <td>0.0</td>\n    </tr>\n    <tr>\n      <th>2</th>\n      <td>4</td>\n      <td>3</td>\n      <td>0.0</td>\n      <td>0</td>\n      <td>0.0</td>\n      <td>0.0</td>\n    </tr>\n    <tr>\n      <th>3</th>\n      <td>4</td>\n      <td>2</td>\n      <td>0.0</td>\n      <td>0</td>\n      <td>0.0</td>\n      <td>0.0</td>\n    </tr>\n    <tr>\n      <th>4</th>\n      <td>8</td>\n      <td>2</td>\n      <td>0.0</td>\n      <td>0</td>\n      <td>0.0</td>\n      <td>0.0</td>\n    </tr>\n    <tr>\n      <th>5</th>\n      <td>4</td>\n      <td>0</td>\n      <td>0.0</td>\n      <td>0</td>\n      <td>0.0</td>\n      <td>0.0</td>\n    </tr>\n    <tr>\n      <th>6</th>\n      <td>4</td>\n      <td>0</td>\n      <td>0.0</td>\n      <td>0</td>\n      <td>0.0</td>\n      <td>0.0</td>\n    </tr>\n    <tr>\n      <th>7</th>\n      <td>4</td>\n      <td>2</td>\n      <td>0.0</td>\n      <td>0</td>\n      <td>0.0</td>\n      <td>0.0</td>\n    </tr>\n    <tr>\n      <th>8</th>\n      <td>0</td>\n      <td>3</td>\n      <td>0.0</td>\n      <td>1</td>\n      <td>0.0</td>\n      <td>0.0</td>\n    </tr>\n    <tr>\n      <th>9</th>\n      <td>1</td>\n      <td>3</td>\n      <td>0.0</td>\n      <td>1</td>\n      <td>0.0</td>\n      <td>0.0</td>\n    </tr>\n  </tbody>\n</table>\n</div>"
     },
     "metadata": {},
     "execution_count": 15
    }
   ],
   "source": [
    "memory_df.head(10)"
   ]
  },
  {
   "cell_type": "code",
   "execution_count": 16,
   "metadata": {},
   "outputs": [
    {
     "output_type": "execute_result",
     "data": {
      "text/plain": [
       "         observation         action         reward        episode  \\\n",
       "count  306485.000000  306485.000000  306485.000000  306485.000000   \n",
       "mean        2.232168       1.499607       0.001905   19997.029101   \n",
       "std         3.015241       1.118122       0.043610   11578.033019   \n",
       "min         0.000000       0.000000       0.000000       0.000000   \n",
       "25%         0.000000       0.000000       0.000000    9960.000000   \n",
       "50%         1.000000       2.000000       0.000000   19974.000000   \n",
       "75%         4.000000       2.000000       0.000000   30048.000000   \n",
       "max        14.000000       3.000000       1.000000   39999.000000   \n",
       "\n",
       "          tot_reward   decay_reward  \n",
       "count  306485.000000  306485.000000  \n",
       "mean        0.025708       0.011901  \n",
       "std         0.158262       0.086619  \n",
       "min         0.000000       0.000000  \n",
       "25%         0.000000       0.000000  \n",
       "50%         0.000000       0.000000  \n",
       "75%         0.000000       0.000000  \n",
       "max         1.000000       0.983333  "
      ],
      "text/html": "<div>\n<style scoped>\n    .dataframe tbody tr th:only-of-type {\n        vertical-align: middle;\n    }\n\n    .dataframe tbody tr th {\n        vertical-align: top;\n    }\n\n    .dataframe thead th {\n        text-align: right;\n    }\n</style>\n<table border=\"1\" class=\"dataframe\">\n  <thead>\n    <tr style=\"text-align: right;\">\n      <th></th>\n      <th>observation</th>\n      <th>action</th>\n      <th>reward</th>\n      <th>episode</th>\n      <th>tot_reward</th>\n      <th>decay_reward</th>\n    </tr>\n  </thead>\n  <tbody>\n    <tr>\n      <th>count</th>\n      <td>306485.000000</td>\n      <td>306485.000000</td>\n      <td>306485.000000</td>\n      <td>306485.000000</td>\n      <td>306485.000000</td>\n      <td>306485.000000</td>\n    </tr>\n    <tr>\n      <th>mean</th>\n      <td>2.232168</td>\n      <td>1.499607</td>\n      <td>0.001905</td>\n      <td>19997.029101</td>\n      <td>0.025708</td>\n      <td>0.011901</td>\n    </tr>\n    <tr>\n      <th>std</th>\n      <td>3.015241</td>\n      <td>1.118122</td>\n      <td>0.043610</td>\n      <td>11578.033019</td>\n      <td>0.158262</td>\n      <td>0.086619</td>\n    </tr>\n    <tr>\n      <th>min</th>\n      <td>0.000000</td>\n      <td>0.000000</td>\n      <td>0.000000</td>\n      <td>0.000000</td>\n      <td>0.000000</td>\n      <td>0.000000</td>\n    </tr>\n    <tr>\n      <th>25%</th>\n      <td>0.000000</td>\n      <td>0.000000</td>\n      <td>0.000000</td>\n      <td>9960.000000</td>\n      <td>0.000000</td>\n      <td>0.000000</td>\n    </tr>\n    <tr>\n      <th>50%</th>\n      <td>1.000000</td>\n      <td>2.000000</td>\n      <td>0.000000</td>\n      <td>19974.000000</td>\n      <td>0.000000</td>\n      <td>0.000000</td>\n    </tr>\n    <tr>\n      <th>75%</th>\n      <td>4.000000</td>\n      <td>2.000000</td>\n      <td>0.000000</td>\n      <td>30048.000000</td>\n      <td>0.000000</td>\n      <td>0.000000</td>\n    </tr>\n    <tr>\n      <th>max</th>\n      <td>14.000000</td>\n      <td>3.000000</td>\n      <td>1.000000</td>\n      <td>39999.000000</td>\n      <td>1.000000</td>\n      <td>0.983333</td>\n    </tr>\n  </tbody>\n</table>\n</div>"
     },
     "metadata": {},
     "execution_count": 16
    }
   ],
   "source": [
    "memory_df.describe()"
   ]
  },
  {
   "cell_type": "code",
   "execution_count": 17,
   "metadata": {},
   "outputs": [
    {
     "output_type": "execute_result",
     "data": {
      "text/plain": [
       "(306485, 6)"
      ]
     },
     "metadata": {},
     "execution_count": 17
    }
   ],
   "source": [
    "memory_df.shape"
   ]
  },
  {
   "cell_type": "code",
   "execution_count": 18,
   "metadata": {},
   "outputs": [
    {
     "output_type": "execute_result",
     "data": {
      "text/plain": [
       "0.0146"
      ]
     },
     "metadata": {},
     "execution_count": 18
    }
   ],
   "source": [
    "memory_df.groupby(\"episode\").reward.sum().mean()"
   ]
  },
  {
   "cell_type": "markdown",
   "metadata": {},
   "source": [
    "# Step 2: Predict\n",
    "\n",
    "Now that you have a bunch of data, put it into a format that you can model. The goal here is to guide the behavior of our agent. Our agent will be given an observation and need to decide between the possible actions given that observation and the prediction of the model. \n",
    "\n",
    "Remember, you're a data scientist! Be creative. \n",
    "\n",
    "It might be helpful to work backwards. Ultimately, you will write something like:\n",
    "\n",
    "```\n",
    "def convert_to_row(obs, act):\n",
    "    # expertly written code\n",
    "    return row_of_obs_act\n",
    "    \n",
    "rows = [convert_to_row(current_obs, act) for act in possible_actions]\n",
    "\n",
    "pred_outcome = model.predict(rows)\n",
    "```\n",
    "\n",
    "So, you will need to design a quantity that you can ask your model to predict for every possible action-observation pair. Think a bit about what this quantity should be. Should the model try to predict the immediate reward for each action? If so, how would it know where to go at the beginning of each episode when all moves give zero reward but when some moves bring it closer to the goal than others. "
   ]
  },
  {
   "cell_type": "code",
   "execution_count": 19,
   "metadata": {},
   "outputs": [
    {
     "output_type": "execute_result",
     "data": {
      "text/plain": [
       "ExtraTreesRegressor(n_estimators=50)"
      ]
     },
     "metadata": {},
     "execution_count": 19
    }
   ],
   "source": [
    "from sklearn.ensemble import RandomForestRegressor, ExtraTreesRegressor\n",
    "from sklearn.svm import SVR\n",
    "\n",
    "model = ExtraTreesRegressor(n_estimators=50)\n",
    "# model = SVR()\n",
    "y = 0.5*memory_df.reward + 0.1*memory_df.decay_reward + memory_df.tot_reward\n",
    "x = memory_df[[\"observation\", \"action\"]]\n",
    "model.fit(x, y)"
   ]
  },
  {
   "cell_type": "markdown",
   "metadata": {},
   "source": [
    "# Step 3: Act\n",
    "\n",
    "Now that you have a model that predicts the desired behavior, let's act on it! Modify the code you used to gather data so that you replace the random decision with an intelligent one.\n",
    "\n",
    "We started out winning ~1.5% of the games with the random agent. How well can you do? You should be able to get your model to do at least 10x better (so 15%). Can you get ~50%?\n",
    "\n",
    "If you're having trouble, tune your model. Try different representations of the observation and action spaces. Try different models. "
   ]
  },
  {
   "cell_type": "code",
   "execution_count": 23,
   "metadata": {},
   "outputs": [
    {
     "output_type": "execute_result",
     "data": {
      "text/plain": [
       "0.518"
      ]
     },
     "metadata": {},
     "execution_count": 23
    }
   ],
   "source": [
    "model = RandomForestRegressor()\n",
    "y = 1*memory_df.reward + memory_df.tot_reward + .1*memory_df.decay_reward\n",
    "x = memory_df[[\"observation\", \"action\"]]\n",
    "model.fit(x, y)\n",
    "\n",
    "num_episodes = 500\n",
    "random_per = 0\n",
    "\n",
    "life_memory = []\n",
    "for i in range(num_episodes):\n",
    "    \n",
    "    # start a new episode and record all the memories\n",
    "    old_observation = env.reset()\n",
    "    done = False\n",
    "    tot_reward = 0\n",
    "    ep_memory = []\n",
    "    while not done:\n",
    "        \n",
    "        \n",
    "        if np.random.rand() < random_per:\n",
    "            new_action = env.action_space.sample()\n",
    "        else:\n",
    "            pred_in = [[old_observation,i] for i in range(4)]\n",
    "            new_action = np.argmax(model.predict(pred_in))\n",
    "        observation, reward, done, info = env.step(new_action)\n",
    "        tot_reward += reward\n",
    "        \n",
    "        ep_memory.append({\n",
    "            \"observation\": old_observation,\n",
    "            \"action\": new_action,\n",
    "            \"reward\": reward,\n",
    "            \"episode\": i,\n",
    "        })\n",
    "        old_observation = observation\n",
    "        \n",
    "    # incorporate total reward\n",
    "    for ep_mem in ep_memory:\n",
    "        ep_mem[\"tot_reward\"] = tot_reward\n",
    "        \n",
    "    life_memory.extend(ep_memory)\n",
    "    \n",
    "memory_df2 = pd.DataFrame(life_memory)\n",
    "\n",
    "# rf.fit(memory_df[[\"observation\", \"action\"]], memory_df[\"comb_reward\"])\n",
    "\n",
    "# score\n",
    "# much better!\n",
    "memory_df2.groupby(\"episode\").reward.sum().mean()"
   ]
  },
  {
   "cell_type": "code",
   "execution_count": 25,
   "metadata": {},
   "outputs": [],
   "source": [
    "y = .1*memory_df.reward + 1*memory_df.decay_reward + 1*memory_df.tot_reward"
   ]
  },
  {
   "cell_type": "markdown",
   "metadata": {},
   "source": [
    "# Extension: Pole cart\n",
    "\n",
    "If time permits, try your hand at pole cart (`env = gym.make('CartPole-v0')`).\n",
    "\n",
    "Notice that the observation space is quite different. It's no longer discrete--instead we have 4 continuous values. You'll have to store these differently from how you did with Frozenlake.\n",
    "\n",
    "My random actor actually does surprisingly well (avg ~22). But my intelligent agent is able to score ~99. Can you beat me? "
   ]
  },
  {
   "cell_type": "markdown",
   "metadata": {},
   "source": [
    "# Pole cart"
   ]
  },
  {
   "cell_type": "code",
   "execution_count": 26,
   "metadata": {},
   "outputs": [],
   "source": [
    "env = gym.make('CartPole-v0')"
   ]
  },
  {
   "cell_type": "code",
   "execution_count": 27,
   "metadata": {},
   "outputs": [
    {
     "output_type": "stream",
     "text": [
      "\u001b[1;31mType:\u001b[0m        CartPoleEnv\n",
      "\u001b[1;31mString form:\u001b[0m <CartPoleEnv<CartPole-v0>>\n",
      "\u001b[1;31mFile:\u001b[0m        c:\\users\\yakup\\anaconda3\\lib\\site-packages\\gym\\envs\\classic_control\\cartpole.py\n",
      "\u001b[1;31mDocstring:\u001b[0m  \n",
      "Description:\n",
      "    A pole is attached by an un-actuated joint to a cart, which moves along\n",
      "    a frictionless track. The pendulum starts upright, and the goal is to\n",
      "    prevent it from falling over by increasing and reducing the cart's\n",
      "    velocity.\n",
      "\n",
      "Source:\n",
      "    This environment corresponds to the version of the cart-pole problem\n",
      "    described by Barto, Sutton, and Anderson\n",
      "\n",
      "Observation:\n",
      "    Type: Box(4)\n",
      "    Num     Observation               Min                     Max\n",
      "    0       Cart Position             -4.8                    4.8\n",
      "    1       Cart Velocity             -Inf                    Inf\n",
      "    2       Pole Angle                -0.418 rad (-24 deg)    0.418 rad (24 deg)\n",
      "    3       Pole Angular Velocity     -Inf                    Inf\n",
      "\n",
      "Actions:\n",
      "    Type: Discrete(2)\n",
      "    Num   Action\n",
      "    0     Push cart to the left\n",
      "    1     Push cart to the right\n",
      "\n",
      "    Note: The amount the velocity that is reduced or increased is not\n",
      "    fixed; it depends on the angle the pole is pointing. This is because\n",
      "    the center of gravity of the pole increases the amount of energy needed\n",
      "    to move the cart underneath it\n",
      "\n",
      "Reward:\n",
      "    Reward is 1 for every step taken, including the termination step\n",
      "\n",
      "Starting State:\n",
      "    All observations are assigned a uniform random value in [-0.05..0.05]\n",
      "\n",
      "Episode Termination:\n",
      "    Pole Angle is more than 12 degrees.\n",
      "    Cart Position is more than 2.4 (center of the cart reaches the edge of\n",
      "    the display).\n",
      "    Episode length is greater than 200.\n",
      "    Solved Requirements:\n",
      "    Considered solved when the average return is greater than or equal to\n",
      "    195.0 over 100 consecutive trials.\n"
     ],
     "name": "stdout"
    }
   ],
   "source": [
    "env.env?"
   ]
  },
  {
   "cell_type": "code",
   "execution_count": 28,
   "metadata": {},
   "outputs": [
    {
     "output_type": "execute_result",
     "data": {
      "text/plain": [
       "22.505"
      ]
     },
     "metadata": {},
     "execution_count": 28
    }
   ],
   "source": [
    "# now we can build a toy world!\n",
    "num_episodes = 1000\n",
    "\n",
    "life_memory = []\n",
    "for i in range(num_episodes):\n",
    "    \n",
    "    # start a new episode and record all the memories\n",
    "    old_observation = env.reset()\n",
    "    done = False\n",
    "    tot_reward = 0\n",
    "    ep_memory = []\n",
    "    while not done:\n",
    "        new_action = env.action_space.sample()\n",
    "        observation, reward, done, info = env.step(new_action)\n",
    "        tot_reward += reward\n",
    "        \n",
    "        ep_memory.append({\n",
    "            \"obs0\": old_observation[0],\n",
    "            \"obs1\": old_observation[1],\n",
    "            \"obs2\": old_observation[2],\n",
    "            \"obs3\": old_observation[3],\n",
    "            \"action\": new_action,\n",
    "            \"reward\": reward,\n",
    "            \"episode\": i,\n",
    "        })\n",
    "        old_observation = observation\n",
    "        \n",
    "    # incorporate total reward\n",
    "    for ep_mem in ep_memory:\n",
    "        ep_mem[\"tot_reward\"] = tot_reward\n",
    "        \n",
    "    life_memory.extend(ep_memory)\n",
    "    \n",
    "memory_df = pd.DataFrame(life_memory)\n",
    "\n",
    "memory_df.groupby(\"episode\").reward.sum().mean()"
   ]
  },
  {
   "cell_type": "code",
   "execution_count": 29,
   "metadata": {},
   "outputs": [
    {
     "output_type": "execute_result",
     "data": {
      "text/plain": [
       "               obs0          obs1          obs2          obs3        action  \\\n",
       "count  22505.000000  22505.000000  22505.000000  22505.000000  22505.000000   \n",
       "mean      -0.005051     -0.011996     -0.000770     -0.000195      0.500733   \n",
       "std        0.108235      0.534783      0.093011      0.780503      0.500011   \n",
       "min       -2.088064     -2.254651     -0.209365     -2.836618      0.000000   \n",
       "25%       -0.041119     -0.362054     -0.056180     -0.499747      0.000000   \n",
       "50%       -0.000426     -0.006365      0.000107      0.001438      1.000000   \n",
       "75%        0.040826      0.347115      0.055005      0.509344      1.000000   \n",
       "max        0.649815      2.457747      0.209407      2.834710      1.000000   \n",
       "\n",
       "        reward       episode    tot_reward  \n",
       "count  22505.0  22505.000000  22505.000000  \n",
       "mean       1.0    491.438569     29.064164  \n",
       "std        0.0    290.580739     16.871539  \n",
       "min        1.0      0.000000      8.000000  \n",
       "25%        1.0    239.000000     17.000000  \n",
       "50%        1.0    484.000000     25.000000  \n",
       "75%        1.0    739.000000     36.000000  \n",
       "max        1.0    999.000000    117.000000  "
      ],
      "text/html": "<div>\n<style scoped>\n    .dataframe tbody tr th:only-of-type {\n        vertical-align: middle;\n    }\n\n    .dataframe tbody tr th {\n        vertical-align: top;\n    }\n\n    .dataframe thead th {\n        text-align: right;\n    }\n</style>\n<table border=\"1\" class=\"dataframe\">\n  <thead>\n    <tr style=\"text-align: right;\">\n      <th></th>\n      <th>obs0</th>\n      <th>obs1</th>\n      <th>obs2</th>\n      <th>obs3</th>\n      <th>action</th>\n      <th>reward</th>\n      <th>episode</th>\n      <th>tot_reward</th>\n    </tr>\n  </thead>\n  <tbody>\n    <tr>\n      <th>count</th>\n      <td>22505.000000</td>\n      <td>22505.000000</td>\n      <td>22505.000000</td>\n      <td>22505.000000</td>\n      <td>22505.000000</td>\n      <td>22505.0</td>\n      <td>22505.000000</td>\n      <td>22505.000000</td>\n    </tr>\n    <tr>\n      <th>mean</th>\n      <td>-0.005051</td>\n      <td>-0.011996</td>\n      <td>-0.000770</td>\n      <td>-0.000195</td>\n      <td>0.500733</td>\n      <td>1.0</td>\n      <td>491.438569</td>\n      <td>29.064164</td>\n    </tr>\n    <tr>\n      <th>std</th>\n      <td>0.108235</td>\n      <td>0.534783</td>\n      <td>0.093011</td>\n      <td>0.780503</td>\n      <td>0.500011</td>\n      <td>0.0</td>\n      <td>290.580739</td>\n      <td>16.871539</td>\n    </tr>\n    <tr>\n      <th>min</th>\n      <td>-2.088064</td>\n      <td>-2.254651</td>\n      <td>-0.209365</td>\n      <td>-2.836618</td>\n      <td>0.000000</td>\n      <td>1.0</td>\n      <td>0.000000</td>\n      <td>8.000000</td>\n    </tr>\n    <tr>\n      <th>25%</th>\n      <td>-0.041119</td>\n      <td>-0.362054</td>\n      <td>-0.056180</td>\n      <td>-0.499747</td>\n      <td>0.000000</td>\n      <td>1.0</td>\n      <td>239.000000</td>\n      <td>17.000000</td>\n    </tr>\n    <tr>\n      <th>50%</th>\n      <td>-0.000426</td>\n      <td>-0.006365</td>\n      <td>0.000107</td>\n      <td>0.001438</td>\n      <td>1.000000</td>\n      <td>1.0</td>\n      <td>484.000000</td>\n      <td>25.000000</td>\n    </tr>\n    <tr>\n      <th>75%</th>\n      <td>0.040826</td>\n      <td>0.347115</td>\n      <td>0.055005</td>\n      <td>0.509344</td>\n      <td>1.000000</td>\n      <td>1.0</td>\n      <td>739.000000</td>\n      <td>36.000000</td>\n    </tr>\n    <tr>\n      <th>max</th>\n      <td>0.649815</td>\n      <td>2.457747</td>\n      <td>0.209407</td>\n      <td>2.834710</td>\n      <td>1.000000</td>\n      <td>1.0</td>\n      <td>999.000000</td>\n      <td>117.000000</td>\n    </tr>\n  </tbody>\n</table>\n</div>"
     },
     "metadata": {},
     "execution_count": 29
    }
   ],
   "source": [
    "memory_df.describe()"
   ]
  },
  {
   "cell_type": "code",
   "execution_count": 30,
   "metadata": {},
   "outputs": [
    {
     "output_type": "execute_result",
     "data": {
      "text/plain": [
       "ExtraTreesRegressor(n_estimators=50)"
      ]
     },
     "metadata": {},
     "execution_count": 30
    }
   ],
   "source": [
    "from sklearn.ensemble import RandomForestRegressor, AdaBoostRegressor, ExtraTreesRegressor\n",
    "\n",
    "model = ExtraTreesRegressor(n_estimators=50)\n",
    "\n",
    "memory_df[\"comb_reward\"] = .5*memory_df.reward + memory_df.tot_reward\n",
    "model.fit(memory_df[[\"obs0\", \"obs1\", \"obs2\", \"obs3\", \"action\"]], memory_df.comb_reward)"
   ]
  },
  {
   "cell_type": "code",
   "execution_count": 31,
   "metadata": {},
   "outputs": [
    {
     "output_type": "execute_result",
     "data": {
      "text/plain": [
       "106.03"
      ]
     },
     "metadata": {},
     "execution_count": 31
    }
   ],
   "source": [
    "num_episodes = 100\n",
    "random_per = 0\n",
    "\n",
    "life_memory = []\n",
    "for i in range(num_episodes):\n",
    "    \n",
    "    # start a new episode and record all the memories\n",
    "    old_observation = env.reset()\n",
    "    done = False\n",
    "    tot_reward = 0\n",
    "    ep_memory = []\n",
    "    while not done:\n",
    "        \n",
    "        \n",
    "        if np.random.rand() < random_per:\n",
    "            new_action = env.action_space.sample()\n",
    "        else:\n",
    "            pred_in = [list(old_observation)+[i] for i in range(2)]\n",
    "            new_action = np.argmax(model.predict(pred_in))\n",
    "        observation, reward, done, info = env.step(new_action)\n",
    "        tot_reward += reward\n",
    "        \n",
    "        ep_memory.append({\n",
    "            \"obs0\": old_observation[0],\n",
    "            \"obs1\": old_observation[1],\n",
    "            \"obs2\": old_observation[2],\n",
    "            \"obs3\": old_observation[3],\n",
    "            \"action\": new_action,\n",
    "            \"reward\": reward,\n",
    "            \"episode\": i,\n",
    "        })\n",
    "        old_observation = observation\n",
    "        \n",
    "    # incorporate total reward\n",
    "    for ep_mem in ep_memory:\n",
    "        ep_mem[\"tot_reward\"] = tot_reward\n",
    "        \n",
    "    life_memory.extend(ep_memory)\n",
    "    \n",
    "memory_df2 = pd.DataFrame(life_memory)\n",
    "memory_df2[\"comb_reward\"] = memory_df2.reward + memory_df2.tot_reward\n",
    "\n",
    "# score\n",
    "# much better!\n",
    "memory_df2.groupby(\"episode\").reward.sum().mean()"
   ]
  },
  {
   "cell_type": "markdown",
   "metadata": {},
   "source": [
    "---\n",
    "### Machine Learning Foundation (C) 2020 IBM Corporation"
   ]
  }
 ],
 "metadata": {
  "kernelspec": {
   "name": "python3",
   "display_name": "Python 3.8.3 64-bit ('base': conda)",
   "metadata": {
    "interpreter": {
     "hash": "44687813b3d17afb9c6216888773a4a524665bcd353671cba8a0f5965d10914c"
    }
   }
  },
  "language_info": {
   "codemirror_mode": {
    "name": "ipython",
    "version": 3
   },
   "file_extension": ".py",
   "mimetype": "text/x-python",
   "name": "python",
   "nbconvert_exporter": "python",
   "pygments_lexer": "ipython3",
   "version": "3.8.3"
  }
 },
 "nbformat": 4,
 "nbformat_minor": 4
}